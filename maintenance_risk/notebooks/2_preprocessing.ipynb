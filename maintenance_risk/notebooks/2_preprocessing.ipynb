{
 "cells": [
  {
   "cell_type": "code",
   "execution_count": 10,
   "metadata": {},
   "outputs": [],
   "source": [
    "#importing libraries\n",
    "import pandas as pd\n",
    "import numpy as np\n",
    "import matplotlib.pyplot as plt\n",
    "import seaborn as sns\n"
   ]
  },
  {
   "cell_type": "code",
   "execution_count": 2,
   "metadata": {},
   "outputs": [],
   "source": [
    "#load the dataset\n",
    "data_path = '/Users/ceciliatorres/Desktop/Personal work/maintenance_risk/maintenance_risk/data/data.csv'\n",
    "df = pd.read_csv(data_path)\n"
   ]
  },
  {
   "cell_type": "code",
   "execution_count": 3,
   "metadata": {},
   "outputs": [
    {
     "name": "stdout",
     "output_type": "stream",
     "text": [
      "Missing values per column:\n",
      " footfall       0\n",
      "tempMode       0\n",
      "AQ             0\n",
      "USS            0\n",
      "CS             0\n",
      "VOC            0\n",
      "RP             0\n",
      "IP             0\n",
      "Temperature    0\n",
      "fail           0\n",
      "dtype: int64\n"
     ]
    }
   ],
   "source": [
    "#drop duplicates\n",
    "df = df.drop_duplicates()\n",
    "\n",
    "#check for missing values (to ensure data completeness before modeling)\n",
    "missing_values = df.isnull().sum()\n",
    "print(\"Missing values per column:\\n\", missing_values)\n"
   ]
  },
  {
   "attachments": {},
   "cell_type": "markdown",
   "metadata": {},
   "source": [
    "Now we identify extreme values that may skew model training and reduce performance."
   ]
  },
  {
   "cell_type": "code",
   "execution_count": 4,
   "metadata": {},
   "outputs": [
    {
     "name": "stdout",
     "output_type": "stream",
     "text": [
      "Outlier counts per feature:\n",
      "{'footfall': 154, 'tempMode': 0, 'AQ': 0, 'USS': 0, 'CS': 87, 'VOC': 0, 'RP': 0, 'IP': 0, 'Temperature': 48}\n"
     ]
    }
   ],
   "source": [
    "#detect outliers\n",
    "def detect_outliers_iqr(df, column):\n",
    "    Q1 = df[column].quantile(0.25)\n",
    "    Q3 = df[column].quantile(0.75)\n",
    "    IQR = Q3 - Q1\n",
    "    lower_bound = Q1 - 1.5 * IQR\n",
    "    upper_bound = Q3 + 1.5 * IQR\n",
    "    outliers = df[(df[column] < lower_bound) | (df[column] > upper_bound)]\n",
    "    return outliers\n",
    "\n",
    "outlier_counts = {}\n",
    "for col in df.columns[:-1]:  #exclude target column 'fail'\n",
    "    outliers = detect_outliers_iqr(df, col)\n",
    "    outlier_counts[col] = len(outliers)\n",
    "\n",
    "print(\"Outlier counts per feature:\")\n",
    "print(outlier_counts)"
   ]
  },
  {
   "attachments": {},
   "cell_type": "markdown",
   "metadata": {},
   "source": [
    "Since footfall have 154 outliers, we apply log transformation to reduce skewness and make the distribution more suitable for modeling.\n"
   ]
  },
  {
   "cell_type": "code",
   "execution_count": 12,
   "metadata": {},
   "outputs": [
    {
     "data": {
      "image/png": "[encoded data removed]",
      "text/plain": [
       "<Figure size 600x400 with 1 Axes>"
      ]
     },
     "metadata": {},
     "output_type": "display_data"
    }
   ],
   "source": [
    "#transform footfall\n",
    "df['footfall'] = np.log1p(df['footfall'])\n",
    "plt.figure(figsize=(6,4))\n",
    "sns.histplot(df['footfall'], kde=True, color='green', bins=30)\n",
    "plt.title('Distribution of log-transformed footfall')\n",
    "plt.xlabel('log_footfall')\n",
    "plt.ylabel('Count')\n",
    "plt.tight_layout()\n",
    "plt.show()\n"
   ]
  },
  {
   "attachments": {},
   "cell_type": "markdown",
   "metadata": {},
   "source": [
    "The `footfall` variable was heavily right-skewed with many extreme values. To stabilise the variance and improve model performance, I applied a log transformation using `log1p(x) = log(1 + x)`. The resulting distribution is much closer to normal.\n"
   ]
  },
  {
   "attachments": {},
   "cell_type": "markdown",
   "metadata": {},
   "source": [
    "Now we can define feature matrix X and target vector y: "
   ]
  },
  {
   "cell_type": "code",
   "execution_count": 13,
   "metadata": {},
   "outputs": [],
   "source": [
    "X = df.drop(columns=['fail'])\n",
    "y = df['fail']\n"
   ]
  },
  {
   "attachments": {},
   "cell_type": "markdown",
   "metadata": {},
   "source": [
    "Now we can split the dataset into training and testing sets to evaluate model performance on unseen data.\n"
   ]
  },
  {
   "cell_type": "code",
   "execution_count": 14,
   "metadata": {},
   "outputs": [
    {
     "name": "stdout",
     "output_type": "stream",
     "text": [
      "Train shape: (754, 9)\n",
      "Test shape: (189, 9)\n"
     ]
    }
   ],
   "source": [
    "\n",
    "from sklearn.model_selection import train_test_split\n",
    "\n",
    "#split the data: 80% training, 20% testing\n",
    "X_train, X_test, y_train, y_test = train_test_split(\n",
    "    X, y, test_size=0.2, random_state=42, stratify=y\n",
    ")\n",
    "\n",
    "#print the shape\n",
    "print(\"Train shape:\", X_train.shape)\n",
    "print(\"Test shape:\", X_test.shape)\n"
   ]
  },
  {
   "attachments": {},
   "cell_type": "markdown",
   "metadata": {},
   "source": [
    "Now we can save the processed datasets for consistent reuse across modeling experiments (with Pickle)"
   ]
  },
  {
   "cell_type": "code",
   "execution_count": 16,
   "metadata": {},
   "outputs": [
    {
     "data": {
      "text/plain": [
       "['processed_data/train_test_split.pkl']"
      ]
     },
     "execution_count": 16,
     "metadata": {},
     "output_type": "execute_result"
    }
   ],
   "source": [
    "import joblib\n",
    "import os\n",
    "\n",
    "os.makedirs(\"processed_data\", exist_ok=True)\n",
    "joblib.dump((X_train, X_test, y_train, y_test), \"processed_data/train_test_split.pkl\")\n"
   ]
  },
  {
   "cell_type": "code",
   "execution_count": null,
   "metadata": {},
   "outputs": [],
   "source": [
    "#to save separately \n",
    "joblib.dump(X_train, base_path + 'X_train.pkl')\n",
    "joblib.dump(X_test, base_path + 'X_test.pkl')\n",
    "joblib.dump(y_train, base_path + 'y_train.pkl')\n",
    "joblib.dump(y_test, base_path + 'y_test.pkl')\n"
   ]
  }
 ],
 "metadata": {
  "kernelspec": {
   "display_name": "base",
   "language": "python",
   "name": "python3"
  },
  "language_info": {
   "codemirror_mode": {
    "name": "ipython",
    "version": 3
   },
   "file_extension": ".py",
   "mimetype": "text/x-python",
   "name": "python",
   "nbconvert_exporter": "python",
   "pygments_lexer": "ipython3",
   "version": "3.11.5"
  },
  "orig_nbformat": 4
 },
 "nbformat": 4,
 "nbformat_minor": 2
}
